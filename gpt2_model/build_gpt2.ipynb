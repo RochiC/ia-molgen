{
 "cells": [
  {
   "cell_type": "code",
   "execution_count": null,
   "metadata": {},
   "outputs": [],
   "source": [
    "from transformers import GPT2Config, GPT2LMHeadModel, AutoTokenizer\n",
    "import torch"
   ]
  },
  {
   "cell_type": "code",
   "execution_count": null,
   "metadata": {},
   "outputs": [],
   "source": [
    "#TOKENIZER Y PARÁMETROS INICIALES\n",
    "tok = AutoTokenizer.from_pretrained(\"usuario/smiles-tokenizer\", padding_side=\"right\")\n",
    "tok.add_special_tokens({\"pad_token\": \"[PAD]\"})"
   ]
  },
  {
   "cell_type": "code",
   "execution_count": null,
   "metadata": {},
   "outputs": [],
   "source": [
    "# PARÁMETROS DEL MODELO\n",
    "max_len = 256  #longitud max de sencuencias SMILES\n",
    "d_model = 768  #dimensión del espacio de los embeddings "
   ]
  },
  {
   "cell_type": "code",
   "execution_count": null,
   "metadata": {},
   "outputs": [],
   "source": [
    "#ARQUITECTURA DEL GPT-2\n",
    "\n",
    "config = GPT2Config(\n",
    "    vocab_size=tok.vocab_size,\n",
    "    n_positions=max_len,\n",
    "    n_ctx=max_len,\n",
    "    n_embd=d_model,\n",
    "    n_layer=12,\n",
    "    n_head=12,\n",
    "    n_inner=4*d_model,\n",
    "    activation_function=\"gelu_new\",\n",
    "    resid_pdrop=0.1,\n",
    "    embd_pdrop=0.1,\n",
    "    attn_pdrop=0.1,\n",
    "    layer_norm_epsilon=1e-5,\n",
    "    bos_token_id=tok.bos_token_id,\n",
    "    eos_token_id=tok.eos_token_id,\n",
    "    pad_token_id=tok.pad_token_id,\n",
    "    use_cache=True\n",
    ")"
   ]
  },
  {
   "cell_type": "code",
   "execution_count": null,
   "metadata": {},
   "outputs": [],
   "source": [
    "# crear modelo GPt-2\n",
    "model = GPT2LMHeadModel(config) #con la estructura de arriba creo el modelo \n",
    "model.resize_token_embeddings(tok.vocab_size)  #se asegura que la capa de los embeddings se adapte al tokenizer, por si el tokenizer creció y haya nuevos tokens como PAD"
   ]
  },
  {
   "cell_type": "code",
   "execution_count": null,
   "metadata": {},
   "outputs": [],
   "source": [
    "model.save_pretrained(\"./gpt2-smiles\")\n",
    "tokenizer.save_pretrained(\"./gpt2-smiles\")  #Guardo el modelo y tokenizer"
   ]
  }
 ],
 "metadata": {
  "language_info": {
   "name": "plaintext"
  },
  "orig_nbformat": 4
 },
 "nbformat": 4,
 "nbformat_minor": 2
}
